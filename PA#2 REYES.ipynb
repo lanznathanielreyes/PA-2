{
 "cells": [
  {
   "cell_type": "markdown",
   "id": "4cae3a07-5324-43a0-805d-c0c8508c22ea",
   "metadata": {},
   "source": [
    "# NUMBER 1"
   ]
  },
  {
   "cell_type": "code",
   "execution_count": 11,
   "id": "1aa8f7ae-7941-414f-a4ad-aefe230848cd",
   "metadata": {},
   "outputs": [
    {
     "name": "stdin",
     "output_type": "stream",
     "text": [
      "Enter number of rows for random array (e.g. 5):  5\n",
      "Enter number of columns for random array (e.g. 5):  5\n"
     ]
    },
    {
     "name": "stdout",
     "output_type": "stream",
     "text": [
      "\n",
      "Random array X:\n",
      " [[0.44038656 0.49624243 0.86813137 0.52126619 0.34877697]\n",
      " [0.1957022  0.69643076 0.10342956 0.88670922 0.92190907]\n",
      " [0.86409291 0.54299967 0.28693123 0.91361763 0.90871235]\n",
      " [0.07998498 0.05562754 0.73850377 0.40177101 0.21569305]\n",
      " [0.54096146 0.44546766 0.6629826  0.35209478 0.85405356]]\n",
      "\n",
      "Normalized array X_normalized:\n",
      " [[-0.33261125 -0.13351388  1.19207852 -0.04431706 -0.65915221]\n",
      " [-1.20478488  0.58005433 -1.53368928  1.258299    1.3837683 ]\n",
      " [ 1.17768348  0.03315158 -0.87960043  1.35421359  1.33672879]\n",
      " [-1.61725712 -1.70407884  0.73002294 -0.47025578 -1.13352782]\n",
      " [ 0.02588641 -0.31449974  0.4608289  -0.64732593  1.14189839]]\n"
     ]
    }
   ],
   "source": [
    "import numpy as np\n",
    "\n",
    "rows = int(input(\"Enter number of rows for random array: \"))\n",
    "cols = int(input(\"Enter number of columns for random array: \"))\n",
    "\n",
    "X = np.random.rand(rows, cols)\n",
    "\n",
    "mean_X = X.mean()\n",
    "std_X = X.std()\n",
    "X_normalized = (X - mean_X) / std_X\n",
    "\n",
    "np.save('X_normalized.npy', X_normalized)\n",
    "\n",
    "print(\"\\nRandom array X:\\n\", X)\n",
    "print(\"\\nNormalized array X_normalized:\\n\", X_normalized)\n"
   ]
  },
  {
   "cell_type": "markdown",
   "id": "16e34a57-7df1-47e8-930a-699a246bc59d",
   "metadata": {},
   "source": [
    "# NUMBER 2"
   ]
  },
  {
   "cell_type": "code",
   "execution_count": 18,
   "id": "5f27de9f-f0c8-4d1a-be67-c817eacf0957",
   "metadata": {},
   "outputs": [
    {
     "name": "stdout",
     "output_type": "stream",
     "text": [
      "\n",
      "Array A (10x10 squares):\n",
      " [[    1     4     9    16    25    36    49    64    81   100]\n",
      " [  121   144   169   196   225   256   289   324   361   400]\n",
      " [  441   484   529   576   625   676   729   784   841   900]\n",
      " [  961  1024  1089  1156  1225  1296  1369  1444  1521  1600]\n",
      " [ 1681  1764  1849  1936  2025  2116  2209  2304  2401  2500]\n",
      " [ 2601  2704  2809  2916  3025  3136  3249  3364  3481  3600]\n",
      " [ 3721  3844  3969  4096  4225  4356  4489  4624  4761  4900]\n",
      " [ 5041  5184  5329  5476  5625  5776  5929  6084  6241  6400]\n",
      " [ 6561  6724  6889  7056  7225  7396  7569  7744  7921  8100]\n",
      " [ 8281  8464  8649  8836  9025  9216  9409  9604  9801 10000]]\n",
      "\n",
      "Numbers divisible by 3:\n",
      " [   9   36   81  144  225  324  441  576  729  900 1089 1296 1521 1764\n",
      " 2025 2304 2601 2916 3249 3600 3969 4356 4761 5184 5625 6084 6561 7056\n",
      " 7569 8100 8649 9216 9801]\n"
     ]
    }
   ],
   "source": [
    "A = np.arange(1, 101)**2  # squares of 1..100\n",
    "A = A.reshape(10, 10)     # 10x10 array\n",
    "\n",
    "div_by_3 = A[A % 3 == 0]  # numbers divisible by 3\n",
    "\n",
    "np.save('div_by_3.npy', div_by_3)\n",
    "\n",
    "print(\"\\nArray A (10x10 squares):\\n\", A)\n",
    "print(\"\\nNumbers divisible by 3:\\n\", div_by_3)"
   ]
  },
  {
   "cell_type": "code",
   "execution_count": null,
   "id": "37579cff-a66c-4be1-9fca-55f85027d589",
   "metadata": {},
   "outputs": [],
   "source": []
  }
 ],
 "metadata": {
  "kernelspec": {
   "display_name": "Python [conda env:base] *",
   "language": "python",
   "name": "conda-base-py"
  },
  "language_info": {
   "codemirror_mode": {
    "name": "ipython",
    "version": 3
   },
   "file_extension": ".py",
   "mimetype": "text/x-python",
   "name": "python",
   "nbconvert_exporter": "python",
   "pygments_lexer": "ipython3",
   "version": "3.13.5"
  }
 },
 "nbformat": 4,
 "nbformat_minor": 5
}
